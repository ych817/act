{
 "cells": [
  {
   "cell_type": "markdown",
   "id": "a7513745",
   "metadata": {},
   "source": [
    "# Activities week01"
   ]
  },
  {
   "cell_type": "markdown",
   "id": "917321b5",
   "metadata": {},
   "source": [
    "## Numpy : Manipulate Array of Temperature\n",
    "\n",
    "Following Code is provided :"
   ]
  },
  {
   "cell_type": "code",
   "execution_count": 10,
   "id": "ea149eeb",
   "metadata": {},
   "outputs": [],
   "source": [
    "import numpy as np\n",
    "\n",
    "# Define the temperature array\n",
    "temps_C = np.array([18.5, 19, 20, 25.0, 2, 30, 13.9])"
   ]
  },
  {
   "cell_type": "markdown",
   "id": "cbf182e9",
   "metadata": {},
   "source": [
    "Print the average temperature for a week."
   ]
  },
  {
   "cell_type": "code",
   "execution_count": 11,
   "id": "7c8bcc78",
   "metadata": {},
   "outputs": [
    {
     "name": "stdout",
     "output_type": "stream",
     "text": [
      "Average temperature: 18.34°C\n"
     ]
    }
   ],
   "source": [
    "# Calculate the average temperature for the week\n",
    "temp_avg = np.mean(temps_C)\n",
    "print(f\"Average temperature: {temp_avg:.2f}°C\")"
   ]
  },
  {
   "cell_type": "markdown",
   "id": "7434c894",
   "metadata": {},
   "source": [
    "Find the highest and lowest temperature recorded."
   ]
  },
  {
   "cell_type": "code",
   "execution_count": 12,
   "id": "0d404133",
   "metadata": {},
   "outputs": [
    {
     "name": "stdout",
     "output_type": "stream",
     "text": [
      "temperature minimum: 2.00°C\n",
      "temperature maximum: 30.00°C\n"
     ]
    }
   ],
   "source": [
    "# Find the lowest and highest temperatures\n",
    "temp_min = np.min(temps_C)\n",
    "temp_max = np.max(temps_C)\n",
    "print(f\"temperature minimum: {temp_min:.2f}°C\")\n",
    "print(f\"temperature maximum: {temp_max:.2f}°C\")"
   ]
  },
  {
   "cell_type": "markdown",
   "id": "69441ce2",
   "metadata": {},
   "source": [
    "Convert all temperatures to Fahrenheit and print the result. (Formula: $\\smash[h]{F = 9C/5 + 32}$)"
   ]
  },
  {
   "cell_type": "code",
   "execution_count": 13,
   "id": "7a276c71",
   "metadata": {},
   "outputs": [
    {
     "name": "stdout",
     "output_type": "stream",
     "text": [
      "temperatures in Fahrenheit:\n",
      "65.30°F\n",
      "66.20°F\n",
      "68.00°F\n",
      "77.00°F\n",
      "35.60°F\n",
      "86.00°F\n",
      "57.02°F\n"
     ]
    }
   ],
   "source": [
    "# Convert all temperatures to Fahrenheit\n",
    "temps_F = (temps_C * 9/5) + 32\n",
    "print(\"temperatures in Fahrenheit:\")\n",
    "for temp in temps_F:\n",
    "    print(f\"{temp:.2f}°F\")"
   ]
  },
  {
   "cell_type": "markdown",
   "id": "71742d52",
   "metadata": {},
   "source": [
    "Identify the days (by index) where the temperature was above 20°C."
   ]
  },
  {
   "cell_type": "code",
   "execution_count": 14,
   "id": "558d5185",
   "metadata": {},
   "outputs": [
    {
     "name": "stdout",
     "output_type": "stream",
     "text": [
      "Days which temperature above 20°C:\n",
      "Day 4: 25.00°C\n",
      "Day 6: 30.00°C\n"
     ]
    }
   ],
   "source": [
    "# Identify the days where the temperature was above 20°C\n",
    "days_temp_C_above_20 = np.where(temps_C > 20)[0]\n",
    "print(\"Days which temperature above 20°C:\")\n",
    "for day in days_temp_C_above_20:\n",
    "    print(f\"Day {day + 1}: {temps_C[day]:.2f}°C\")"
   ]
  },
  {
   "cell_type": "markdown",
   "id": "7d9da7d5",
   "metadata": {},
   "source": [
    "## Numpy : Manipulate Array of Integers\n",
    "\n",
    "Activity : Create a NumPy array of the first 10 positive integers. Then:"
   ]
  },
  {
   "cell_type": "code",
   "execution_count": 15,
   "id": "877b4468",
   "metadata": {},
   "outputs": [],
   "source": [
    "import numpy as np\n",
    "\n",
    "# Create a NumPy array of the first 10 positive integers\n",
    "arr = np.arange(1, 11)"
   ]
  },
  {
   "cell_type": "markdown",
   "id": "3665c3fa",
   "metadata": {},
   "source": [
    "Print the array."
   ]
  },
  {
   "cell_type": "code",
   "execution_count": 16,
   "id": "d78af97b",
   "metadata": {},
   "outputs": [
    {
     "name": "stdout",
     "output_type": "stream",
     "text": [
      "Array: [ 1  2  3  4  5  6  7  8  9 10]\n"
     ]
    }
   ],
   "source": [
    "# Print the array\n",
    "print(\"Array:\", arr)"
   ]
  },
  {
   "cell_type": "markdown",
   "id": "414d121d",
   "metadata": {},
   "source": [
    "Print the shape and data type of the array."
   ]
  },
  {
   "cell_type": "code",
   "execution_count": 17,
   "id": "3400d737",
   "metadata": {},
   "outputs": [
    {
     "name": "stdout",
     "output_type": "stream",
     "text": [
      "Shape: (10,)\n",
      "Data type: int64\n"
     ]
    }
   ],
   "source": [
    "# Print the shape and data type of the array\n",
    "print(\"Shape:\", arr.shape)\n",
    "print(\"Data type:\", arr.dtype)"
   ]
  },
  {
   "cell_type": "markdown",
   "id": "43e16b52",
   "metadata": {},
   "source": [
    "Multiply each element by 2 and print the result."
   ]
  },
  {
   "cell_type": "code",
   "execution_count": 18,
   "id": "0314e8e8",
   "metadata": {},
   "outputs": [
    {
     "name": "stdout",
     "output_type": "stream",
     "text": [
      "Multiplied by 2: [ 2  4  6  8 10 12 14 16 18 20]\n"
     ]
    }
   ],
   "source": [
    "# Multiply each element by 2 and print the result\n",
    "arr_times_two = arr * 2\n",
    "print(\"Multiplied by 2:\", arr_times_two)"
   ]
  }
 ],
 "metadata": {
  "kernelspec": {
   "display_name": "yoobee",
   "language": "python",
   "name": "python3"
  },
  "language_info": {
   "codemirror_mode": {
    "name": "ipython",
    "version": 3
   },
   "file_extension": ".py",
   "mimetype": "text/x-python",
   "name": "python",
   "nbconvert_exporter": "python",
   "pygments_lexer": "ipython3",
   "version": "3.11.11"
  }
 },
 "nbformat": 4,
 "nbformat_minor": 5
}
